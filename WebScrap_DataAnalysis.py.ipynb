{
 "cells": [
  {
   "cell_type": "code",
   "execution_count": 192,
   "metadata": {},
   "outputs": [],
   "source": [
    "import numpy as np\n",
    "import pandas as pd\n",
    "import re\n",
    "%matplotlib inline\n",
    "from matplotlib import pyplot as plt\n",
    "plt.style.use('ggplot')\n",
    "import seaborn as sns"
   ]
  },
  {
   "cell_type": "code",
   "execution_count": 193,
   "metadata": {},
   "outputs": [],
   "source": [
    "#!type weldingroddata.csv # Windows user"
   ]
  },
  {
   "cell_type": "code",
   "execution_count": 194,
   "metadata": {
    "scrolled": false
   },
   "outputs": [
    {
     "data": {
      "text/html": [
       "<div>\n",
       "<style scoped>\n",
       "    .dataframe tbody tr th:only-of-type {\n",
       "        vertical-align: middle;\n",
       "    }\n",
       "\n",
       "    .dataframe tbody tr th {\n",
       "        vertical-align: top;\n",
       "    }\n",
       "\n",
       "    .dataframe thead th {\n",
       "        text-align: right;\n",
       "    }\n",
       "</style>\n",
       "<table border=\"1\" class=\"dataframe\">\n",
       "  <thead>\n",
       "    <tr style=\"text-align: right;\">\n",
       "      <th></th>\n",
       "      <th>Catagories</th>\n",
       "      <th>Product_Type</th>\n",
       "      <th>Product_Description</th>\n",
       "      <th>headings</th>\n",
       "      <th>Industries_WeldingProcess</th>\n",
       "      <th>Elements</th>\n",
       "      <th>Values</th>\n",
       "    </tr>\n",
       "    <tr>\n",
       "      <th>Product_ID</th>\n",
       "      <th></th>\n",
       "      <th></th>\n",
       "      <th></th>\n",
       "      <th></th>\n",
       "      <th></th>\n",
       "      <th></th>\n",
       "      <th></th>\n",
       "    </tr>\n",
       "  </thead>\n",
       "  <tbody>\n",
       "    <tr>\n",
       "      <th>TIGROD,ER90S-B9</th>\n",
       "      <td>TIG Rods (GTAW)</td>\n",
       "      <td>Low Alloy Wires</td>\n",
       "      <td>Tigrod ER90S-B9 is a solid wire for TIG weldin...</td>\n",
       "      <td>Industries,Welding Process</td>\n",
       "      <td>Pipeline,Power Generation,Process,Petrochemica...</td>\n",
       "      <td>Typical Tensile Properties,Condition,Elongatio...</td>\n",
       "      <td>Stress Relieved,27 %,1275 °F,1 hr,94 ksi,80 ks...</td>\n",
       "    </tr>\n",
       "    <tr>\n",
       "      <th>TIGROD,ER90S-B3</th>\n",
       "      <td>TIG Rods (GTAW)</td>\n",
       "      <td>Low Alloy Wires</td>\n",
       "      <td>Tigrod ER90S-B3 is a Chrome-Moly TIG rod used ...</td>\n",
       "      <td>Industries,Welding Process</td>\n",
       "      <td>Process,Petrochemical,Power Generation,Welding...</td>\n",
       "      <td>Typical Tensile Properties,Condition,Elongatio...</td>\n",
       "      <td>Stress Relieved,27 %,1275 °F,1 hr,94 ksi,79 ks...</td>\n",
       "    </tr>\n",
       "    <tr>\n",
       "      <th>TIGROD,ER80S-B8</th>\n",
       "      <td>TIG Rods (GTAW)</td>\n",
       "      <td>Low Alloy Wires</td>\n",
       "      <td>ER80S-B8 is a non-copper-coated solid wire for...</td>\n",
       "      <td>Industries,Welding Process</td>\n",
       "      <td>Power Generation,Welding-GTAW (TIG - Tungsten ...</td>\n",
       "      <td>Typical Tensile Properties,Condition,Elongatio...</td>\n",
       "      <td>Stress Relieved,24 %,1375 °F,1 hr,97 ksi,78 ks...</td>\n",
       "    </tr>\n",
       "  </tbody>\n",
       "</table>\n",
       "</div>"
      ],
      "text/plain": [
       "                      Catagories     Product_Type  \\\n",
       "Product_ID                                          \n",
       "TIGROD,ER90S-B9  TIG Rods (GTAW)  Low Alloy Wires   \n",
       "TIGROD,ER90S-B3  TIG Rods (GTAW)  Low Alloy Wires   \n",
       "TIGROD,ER80S-B8  TIG Rods (GTAW)  Low Alloy Wires   \n",
       "\n",
       "                                               Product_Description  \\\n",
       "Product_ID                                                           \n",
       "TIGROD,ER90S-B9  Tigrod ER90S-B9 is a solid wire for TIG weldin...   \n",
       "TIGROD,ER90S-B3  Tigrod ER90S-B3 is a Chrome-Moly TIG rod used ...   \n",
       "TIGROD,ER80S-B8  ER80S-B8 is a non-copper-coated solid wire for...   \n",
       "\n",
       "                                   headings  \\\n",
       "Product_ID                                    \n",
       "TIGROD,ER90S-B9  Industries,Welding Process   \n",
       "TIGROD,ER90S-B3  Industries,Welding Process   \n",
       "TIGROD,ER80S-B8  Industries,Welding Process   \n",
       "\n",
       "                                         Industries_WeldingProcess  \\\n",
       "Product_ID                                                           \n",
       "TIGROD,ER90S-B9  Pipeline,Power Generation,Process,Petrochemica...   \n",
       "TIGROD,ER90S-B3  Process,Petrochemical,Power Generation,Welding...   \n",
       "TIGROD,ER80S-B8  Power Generation,Welding-GTAW (TIG - Tungsten ...   \n",
       "\n",
       "                                                          Elements  \\\n",
       "Product_ID                                                           \n",
       "TIGROD,ER90S-B9  Typical Tensile Properties,Condition,Elongatio...   \n",
       "TIGROD,ER90S-B3  Typical Tensile Properties,Condition,Elongatio...   \n",
       "TIGROD,ER80S-B8  Typical Tensile Properties,Condition,Elongatio...   \n",
       "\n",
       "                                                            Values  \n",
       "Product_ID                                                          \n",
       "TIGROD,ER90S-B9  Stress Relieved,27 %,1275 °F,1 hr,94 ksi,80 ks...  \n",
       "TIGROD,ER90S-B3  Stress Relieved,27 %,1275 °F,1 hr,94 ksi,79 ks...  \n",
       "TIGROD,ER80S-B8  Stress Relieved,24 %,1375 °F,1 hr,97 ksi,78 ks...  "
      ]
     },
     "execution_count": 194,
     "metadata": {},
     "output_type": "execute_result"
    }
   ],
   "source": [
    "df=pd.read_csv('weldingroddata.csv', index_col=0)\n",
    "df.head(3)\n",
    "#df.values\n",
    "#df.dtypes"
   ]
  },
  {
   "cell_type": "code",
   "execution_count": 195,
   "metadata": {},
   "outputs": [
    {
     "data": {
      "text/plain": [
       "'Stress Relieved,27 %,1275 °F,1 hr,94 ksi,80 ksi,Stress Relieved,25 %,1300 °F,1 hr,93 ksi,76 ksi,0.60 %,< 15 %,0.90 %,0.10 %,max 0.015 %,0.040-0.070 %,30 PPM max %,2.40 %,0.01 %,max 0.10 %,0.01 %,0.030-0.050 %,0.18-0.25 %,0.50 %,max 0.50 %,ASME SFA 5.28; AWS A5.28; ER90S-B9'"
      ]
     },
     "execution_count": 195,
     "metadata": {},
     "output_type": "execute_result"
    }
   ],
   "source": [
    "df[\"Values\"].iloc[0]"
   ]
  },
  {
   "cell_type": "code",
   "execution_count": 196,
   "metadata": {},
   "outputs": [
    {
     "data": {
      "text/plain": [
       "(630, 7)"
      ]
     },
     "execution_count": 196,
     "metadata": {},
     "output_type": "execute_result"
    }
   ],
   "source": [
    "df.shape"
   ]
  },
  {
   "cell_type": "code",
   "execution_count": 197,
   "metadata": {},
   "outputs": [
    {
     "data": {
      "text/plain": [
       "Catagories\n",
       "Cermic Backup Tape                         1\n",
       "Covered (Stick) Electrodes (SMAW)        102\n",
       "Gas Shielded Flux Cored Wires (FCAW)      81\n",
       "MIG/MAG Wires (GMAW)                      92\n",
       "Metal Cored Wire (MCAW)                   19\n",
       "Plasma and Transferred Arc & Arc           3\n",
       "Repair and Maintenance                   113\n",
       "Self Shielded Flux Cored Wires (FCAW)     42\n",
       "Submerged Arc Wires & Fluxes (SAW)       124\n",
       "TIG Rods (GTAW)                           53\n",
       "dtype: int64"
      ]
     },
     "execution_count": 197,
     "metadata": {},
     "output_type": "execute_result"
    }
   ],
   "source": [
    "group = df.groupby('Catagories')\n",
    "group.size()"
   ]
  },
  {
   "cell_type": "code",
   "execution_count": 198,
   "metadata": {},
   "outputs": [
    {
     "data": {
      "text/plain": [
       "Product_Type\n",
       "Accessories         2\n",
       "All                 1\n",
       "Alumnium Wires     31\n",
       "Cast Iron Wires    15\n",
       "Cladding Fluxes     8\n",
       "dtype: int64"
      ]
     },
     "execution_count": 198,
     "metadata": {},
     "output_type": "execute_result"
    }
   ],
   "source": [
    "group = df.groupby('Product_Type')\n",
    "group.size().head(5)"
   ]
  },
  {
   "cell_type": "code",
   "execution_count": 199,
   "metadata": {},
   "outputs": [
    {
     "data": {
      "text/html": [
       "<div>\n",
       "<style scoped>\n",
       "    .dataframe tbody tr th:only-of-type {\n",
       "        vertical-align: middle;\n",
       "    }\n",
       "\n",
       "    .dataframe tbody tr th {\n",
       "        vertical-align: top;\n",
       "    }\n",
       "\n",
       "    .dataframe thead th {\n",
       "        text-align: right;\n",
       "    }\n",
       "</style>\n",
       "<table border=\"1\" class=\"dataframe\">\n",
       "  <thead>\n",
       "    <tr style=\"text-align: right;\">\n",
       "      <th></th>\n",
       "      <th>headings</th>\n",
       "    </tr>\n",
       "    <tr>\n",
       "      <th>Product_ID</th>\n",
       "      <th></th>\n",
       "    </tr>\n",
       "  </thead>\n",
       "  <tbody>\n",
       "    <tr>\n",
       "      <th>TIGROD,ER90S-B9</th>\n",
       "      <td>Industries,Welding Process</td>\n",
       "    </tr>\n",
       "    <tr>\n",
       "      <th>TIGROD,ER90S-B3</th>\n",
       "      <td>Industries,Welding Process</td>\n",
       "    </tr>\n",
       "    <tr>\n",
       "      <th>TIGROD,ER80S-B8</th>\n",
       "      <td>Industries,Welding Process</td>\n",
       "    </tr>\n",
       "  </tbody>\n",
       "</table>\n",
       "</div>"
      ],
      "text/plain": [
       "                                   headings\n",
       "Product_ID                                 \n",
       "TIGROD,ER90S-B9  Industries,Welding Process\n",
       "TIGROD,ER90S-B3  Industries,Welding Process\n",
       "TIGROD,ER80S-B8  Industries,Welding Process"
      ]
     },
     "execution_count": 199,
     "metadata": {},
     "output_type": "execute_result"
    }
   ],
   "source": [
    "df['headings'] = df['headings'].fillna('')\n",
    "df[['headings']].head(3)"
   ]
  },
  {
   "cell_type": "code",
   "execution_count": 200,
   "metadata": {
    "scrolled": true
   },
   "outputs": [
    {
     "data": {
      "text/html": [
       "<div>\n",
       "<style scoped>\n",
       "    .dataframe tbody tr th:only-of-type {\n",
       "        vertical-align: middle;\n",
       "    }\n",
       "\n",
       "    .dataframe tbody tr th {\n",
       "        vertical-align: top;\n",
       "    }\n",
       "\n",
       "    .dataframe thead th {\n",
       "        text-align: right;\n",
       "    }\n",
       "</style>\n",
       "<table border=\"1\" class=\"dataframe\">\n",
       "  <thead>\n",
       "    <tr style=\"text-align: right;\">\n",
       "      <th></th>\n",
       "      <th>Industries_WeldingProcess</th>\n",
       "    </tr>\n",
       "    <tr>\n",
       "      <th>Product_ID</th>\n",
       "      <th></th>\n",
       "    </tr>\n",
       "  </thead>\n",
       "  <tbody>\n",
       "    <tr>\n",
       "      <th>TIGROD,ER90S-B9</th>\n",
       "      <td>Pipeline,Power Generation,Process,Petrochemica...</td>\n",
       "    </tr>\n",
       "    <tr>\n",
       "      <th>TIGROD,ER90S-B3</th>\n",
       "      <td>Process,Petrochemical,Power Generation,Welding...</td>\n",
       "    </tr>\n",
       "    <tr>\n",
       "      <th>TIGROD,ER80S-B8</th>\n",
       "      <td>Power Generation,Welding-GTAW (TIG - Tungsten ...</td>\n",
       "    </tr>\n",
       "  </tbody>\n",
       "</table>\n",
       "</div>"
      ],
      "text/plain": [
       "                                         Industries_WeldingProcess\n",
       "Product_ID                                                        \n",
       "TIGROD,ER90S-B9  Pipeline,Power Generation,Process,Petrochemica...\n",
       "TIGROD,ER90S-B3  Process,Petrochemical,Power Generation,Welding...\n",
       "TIGROD,ER80S-B8  Power Generation,Welding-GTAW (TIG - Tungsten ..."
      ]
     },
     "execution_count": 200,
     "metadata": {},
     "output_type": "execute_result"
    }
   ],
   "source": [
    "df['Industries_WeldingProcess'] = df['Industries_WeldingProcess'].fillna('')\n",
    "df[['Industries_WeldingProcess']].head(3)"
   ]
  },
  {
   "cell_type": "code",
   "execution_count": 201,
   "metadata": {},
   "outputs": [
    {
     "data": {
      "text/html": [
       "<div>\n",
       "<style scoped>\n",
       "    .dataframe tbody tr th:only-of-type {\n",
       "        vertical-align: middle;\n",
       "    }\n",
       "\n",
       "    .dataframe tbody tr th {\n",
       "        vertical-align: top;\n",
       "    }\n",
       "\n",
       "    .dataframe thead th {\n",
       "        text-align: right;\n",
       "    }\n",
       "</style>\n",
       "<table border=\"1\" class=\"dataframe\">\n",
       "  <thead>\n",
       "    <tr style=\"text-align: right;\">\n",
       "      <th></th>\n",
       "      <th>Pipeline</th>\n",
       "    </tr>\n",
       "    <tr>\n",
       "      <th>Product_ID</th>\n",
       "      <th></th>\n",
       "    </tr>\n",
       "  </thead>\n",
       "  <tbody>\n",
       "    <tr>\n",
       "      <th>TIGROD,ER90S-B9</th>\n",
       "      <td>Pipeline</td>\n",
       "    </tr>\n",
       "    <tr>\n",
       "      <th>TIGROD,ER90S-B3</th>\n",
       "      <td></td>\n",
       "    </tr>\n",
       "    <tr>\n",
       "      <th>TIGROD,ER80S-B8</th>\n",
       "      <td></td>\n",
       "    </tr>\n",
       "  </tbody>\n",
       "</table>\n",
       "</div>"
      ],
      "text/plain": [
       "                 Pipeline\n",
       "Product_ID               \n",
       "TIGROD,ER90S-B9  Pipeline\n",
       "TIGROD,ER90S-B3          \n",
       "TIGROD,ER80S-B8          "
      ]
     },
     "execution_count": 201,
     "metadata": {},
     "output_type": "execute_result"
    }
   ],
   "source": [
    "df['Automotive'] = list(map(lambda x: re.findall(\"Automotive\",x), df['Industries_WeldingProcess']))\n",
    "df['Automotive']=df['Automotive'].apply(''.join)\n",
    "df[['Automotive']].head(3)\n",
    "df['Power'] = list(map(lambda x: re.findall(\"Power\",x), df['Industries_WeldingProcess']))\n",
    "df['Power']=df['Power'].apply(''.join)\n",
    "df[['Power']].head(3)\n",
    "df['Petrochemical'] = list(map(lambda x: re.findall(\"Petrochemical\",x), df['Industries_WeldingProcess']))\n",
    "df['Petrochemical']=df['Petrochemical'].apply(''.join)\n",
    "df[['Petrochemical']].head(3)\n",
    "df['Construction'] = list(map(lambda x: re.findall(\"Construction\",x), df['Industries_WeldingProcess']))\n",
    "df['Construction']=df['Construction'].apply(''.join)\n",
    "df[['Construction']].head(3)\n",
    "df['Ship'] = list(map(lambda x: re.findall(\"Ship\",x), df['Industries_WeldingProcess']))\n",
    "df['Ship']=df['Ship'].apply(''.join)\n",
    "df[['Ship']].head(3)\n",
    "df['Pipeline'] = list(map(lambda x: re.findall(\"Pipeline\",x), df['Industries_WeldingProcess']))\n",
    "df['Pipeline']=df['Pipeline'].apply(''.join)\n",
    "df[['Pipeline']].head(3)"
   ]
  },
  {
   "cell_type": "code",
   "execution_count": 202,
   "metadata": {},
   "outputs": [
    {
     "data": {
      "text/html": [
       "<div>\n",
       "<style scoped>\n",
       "    .dataframe tbody tr th:only-of-type {\n",
       "        vertical-align: middle;\n",
       "    }\n",
       "\n",
       "    .dataframe tbody tr th {\n",
       "        vertical-align: top;\n",
       "    }\n",
       "\n",
       "    .dataframe thead th {\n",
       "        text-align: right;\n",
       "    }\n",
       "</style>\n",
       "<table border=\"1\" class=\"dataframe\">\n",
       "  <thead>\n",
       "    <tr style=\"text-align: right;\">\n",
       "      <th></th>\n",
       "      <th>Values_Condition</th>\n",
       "    </tr>\n",
       "    <tr>\n",
       "      <th>Product_ID</th>\n",
       "      <th></th>\n",
       "    </tr>\n",
       "  </thead>\n",
       "  <tbody>\n",
       "    <tr>\n",
       "      <th>TIGROD,ER90S-B9</th>\n",
       "      <td>Stress Relieved</td>\n",
       "    </tr>\n",
       "    <tr>\n",
       "      <th>TIGROD,ER90S-B3</th>\n",
       "      <td>Stress Relieved</td>\n",
       "    </tr>\n",
       "    <tr>\n",
       "      <th>TIGROD,ER80S-B8</th>\n",
       "      <td>Stress Relieved</td>\n",
       "    </tr>\n",
       "  </tbody>\n",
       "</table>\n",
       "</div>"
      ],
      "text/plain": [
       "                Values_Condition\n",
       "Product_ID                      \n",
       "TIGROD,ER90S-B9  Stress Relieved\n",
       "TIGROD,ER90S-B3  Stress Relieved\n",
       "TIGROD,ER80S-B8  Stress Relieved"
      ]
     },
     "execution_count": 202,
     "metadata": {},
     "output_type": "execute_result"
    }
   ],
   "source": [
    "df['Values_Condition'] = df['Values'].fillna('')\n",
    "df[['Values_Condition']].head(3)\n",
    "\n",
    "df['Values_Condition'] = list(map(lambda x: re.findall(\"Stress Relieved\",x), df['Values_Condition']))\n",
    "df['Values_Condition']=df['Values_Condition'].apply(''.join)\n",
    "df[['Values_Condition']].head(3)\n",
    "\n",
    "df['Values_Condition']=df[\"Values_Condition\"].apply(lambda lst: lst[:15])\n",
    "df[['Values_Condition']].head(3)"
   ]
  },
  {
   "cell_type": "code",
   "execution_count": 203,
   "metadata": {},
   "outputs": [
    {
     "data": {
      "text/html": [
       "<div>\n",
       "<style scoped>\n",
       "    .dataframe tbody tr th:only-of-type {\n",
       "        vertical-align: middle;\n",
       "    }\n",
       "\n",
       "    .dataframe tbody tr th {\n",
       "        vertical-align: top;\n",
       "    }\n",
       "\n",
       "    .dataframe thead th {\n",
       "        text-align: right;\n",
       "    }\n",
       "</style>\n",
       "<table border=\"1\" class=\"dataframe\">\n",
       "  <thead>\n",
       "    <tr style=\"text-align: right;\">\n",
       "      <th></th>\n",
       "      <th>Tensile</th>\n",
       "    </tr>\n",
       "    <tr>\n",
       "      <th>Product_ID</th>\n",
       "      <th></th>\n",
       "    </tr>\n",
       "  </thead>\n",
       "  <tbody>\n",
       "    <tr>\n",
       "      <th>TIGROD,ER90S-B9</th>\n",
       "      <td>Stress Relieved,27 %,1275 °F,1 hr,94 ksi,80 ks...</td>\n",
       "    </tr>\n",
       "    <tr>\n",
       "      <th>TIGROD,ER90S-B3</th>\n",
       "      <td>Stress Relieved,27 %,1275 °F,1 hr,94 ksi,79 ks...</td>\n",
       "    </tr>\n",
       "    <tr>\n",
       "      <th>TIGROD,ER80S-B8</th>\n",
       "      <td>Stress Relieved,24 %,1375 °F,1 hr,97 ksi,78 ks...</td>\n",
       "    </tr>\n",
       "  </tbody>\n",
       "</table>\n",
       "</div>"
      ],
      "text/plain": [
       "                                                           Tensile\n",
       "Product_ID                                                        \n",
       "TIGROD,ER90S-B9  Stress Relieved,27 %,1275 °F,1 hr,94 ksi,80 ks...\n",
       "TIGROD,ER90S-B3  Stress Relieved,27 %,1275 °F,1 hr,94 ksi,79 ks...\n",
       "TIGROD,ER80S-B8  Stress Relieved,24 %,1375 °F,1 hr,97 ksi,78 ks..."
      ]
     },
     "execution_count": 203,
     "metadata": {},
     "output_type": "execute_result"
    }
   ],
   "source": [
    "df['Tensile'] = df['Values'].fillna('')\n",
    "df[['Tensile']].head(3)"
   ]
  },
  {
   "cell_type": "code",
   "execution_count": 204,
   "metadata": {},
   "outputs": [
    {
     "data": {
      "text/html": [
       "<div>\n",
       "<style scoped>\n",
       "    .dataframe tbody tr th:only-of-type {\n",
       "        vertical-align: middle;\n",
       "    }\n",
       "\n",
       "    .dataframe tbody tr th {\n",
       "        vertical-align: top;\n",
       "    }\n",
       "\n",
       "    .dataframe thead th {\n",
       "        text-align: right;\n",
       "    }\n",
       "</style>\n",
       "<table border=\"1\" class=\"dataframe\">\n",
       "  <thead>\n",
       "    <tr style=\"text-align: right;\">\n",
       "      <th></th>\n",
       "      <th>Elements</th>\n",
       "    </tr>\n",
       "    <tr>\n",
       "      <th>Product_ID</th>\n",
       "      <th></th>\n",
       "    </tr>\n",
       "  </thead>\n",
       "  <tbody>\n",
       "    <tr>\n",
       "      <th>TIGROD,ER90S-B9</th>\n",
       "      <td>Typical Tensile Properties,Condition,Elongatio...</td>\n",
       "    </tr>\n",
       "    <tr>\n",
       "      <th>TIGROD,ER90S-B3</th>\n",
       "      <td>Typical Tensile Properties,Condition,Elongatio...</td>\n",
       "    </tr>\n",
       "    <tr>\n",
       "      <th>TIGROD,ER80S-B8</th>\n",
       "      <td>Typical Tensile Properties,Condition,Elongatio...</td>\n",
       "    </tr>\n",
       "  </tbody>\n",
       "</table>\n",
       "</div>"
      ],
      "text/plain": [
       "                                                          Elements\n",
       "Product_ID                                                        \n",
       "TIGROD,ER90S-B9  Typical Tensile Properties,Condition,Elongatio...\n",
       "TIGROD,ER90S-B3  Typical Tensile Properties,Condition,Elongatio...\n",
       "TIGROD,ER80S-B8  Typical Tensile Properties,Condition,Elongatio..."
      ]
     },
     "execution_count": 204,
     "metadata": {},
     "output_type": "execute_result"
    }
   ],
   "source": [
    "df['Elements'] = df['Elements'].fillna('')\n",
    "df[['Elements']].head(3)"
   ]
  },
  {
   "cell_type": "code",
   "execution_count": 205,
   "metadata": {},
   "outputs": [],
   "source": [
    "df['Tensile'] = list(map(lambda x: re.findall(\"[0-9]{0,3} ksi\",x), df['Tensile']))"
   ]
  },
  {
   "cell_type": "code",
   "execution_count": 206,
   "metadata": {},
   "outputs": [
    {
     "data": {
      "text/html": [
       "<div>\n",
       "<style scoped>\n",
       "    .dataframe tbody tr th:only-of-type {\n",
       "        vertical-align: middle;\n",
       "    }\n",
       "\n",
       "    .dataframe tbody tr th {\n",
       "        vertical-align: top;\n",
       "    }\n",
       "\n",
       "    .dataframe thead th {\n",
       "        text-align: right;\n",
       "    }\n",
       "</style>\n",
       "<table border=\"1\" class=\"dataframe\">\n",
       "  <thead>\n",
       "    <tr style=\"text-align: right;\">\n",
       "      <th></th>\n",
       "      <th>Tensile</th>\n",
       "    </tr>\n",
       "    <tr>\n",
       "      <th>Product_ID</th>\n",
       "      <th></th>\n",
       "    </tr>\n",
       "  </thead>\n",
       "  <tbody>\n",
       "    <tr>\n",
       "      <th>TIGROD,ER90S-B9</th>\n",
       "      <td>[94 ksi]</td>\n",
       "    </tr>\n",
       "    <tr>\n",
       "      <th>TIGROD,ER90S-B3</th>\n",
       "      <td>[94 ksi]</td>\n",
       "    </tr>\n",
       "    <tr>\n",
       "      <th>TIGROD,ER80S-B8</th>\n",
       "      <td>[97 ksi]</td>\n",
       "    </tr>\n",
       "  </tbody>\n",
       "</table>\n",
       "</div>"
      ],
      "text/plain": [
       "                  Tensile\n",
       "Product_ID               \n",
       "TIGROD,ER90S-B9  [94 ksi]\n",
       "TIGROD,ER90S-B3  [94 ksi]\n",
       "TIGROD,ER80S-B8  [97 ksi]"
      ]
     },
     "execution_count": 206,
     "metadata": {},
     "output_type": "execute_result"
    }
   ],
   "source": [
    "df['Tensile']=df[\"Tensile\"].apply(lambda lst: lst[:1])\n",
    "df[['Tensile']].head(3)"
   ]
  },
  {
   "cell_type": "code",
   "execution_count": 207,
   "metadata": {},
   "outputs": [
    {
     "data": {
      "text/plain": [
       "Product_ID\n",
       "TIGROD,ER90S-B9    94.0\n",
       "TIGROD,ER90S-B3    94.0\n",
       "TIGROD,ER80S-B8    97.0\n",
       "Name: Tensile, dtype: float64"
      ]
     },
     "execution_count": 207,
     "metadata": {},
     "output_type": "execute_result"
    }
   ],
   "source": [
    "df['Tensile']=df['Tensile'].apply(''.join)\n",
    "df['Tensile']=df[\"Tensile\"].apply(lambda x:re.findall(\"[0-9]{0,3}\",x)[0])\n",
    "df['Tensile']=pd.to_numeric(df['Tensile'])\n",
    "df['Tensile'].head(3)"
   ]
  },
  {
   "cell_type": "code",
   "execution_count": 208,
   "metadata": {},
   "outputs": [
    {
     "data": {
      "text/html": [
       "<div>\n",
       "<style scoped>\n",
       "    .dataframe tbody tr th:only-of-type {\n",
       "        vertical-align: middle;\n",
       "    }\n",
       "\n",
       "    .dataframe tbody tr th {\n",
       "        vertical-align: top;\n",
       "    }\n",
       "\n",
       "    .dataframe thead th {\n",
       "        text-align: right;\n",
       "    }\n",
       "</style>\n",
       "<table border=\"1\" class=\"dataframe\">\n",
       "  <thead>\n",
       "    <tr style=\"text-align: right;\">\n",
       "      <th></th>\n",
       "      <th>Catagories</th>\n",
       "      <th>Product_Type</th>\n",
       "      <th>Power</th>\n",
       "      <th>Automotive</th>\n",
       "      <th>Petrochemical</th>\n",
       "      <th>Construction</th>\n",
       "      <th>Ship</th>\n",
       "      <th>Pipeline</th>\n",
       "      <th>Tensile</th>\n",
       "      <th>Values_Condition</th>\n",
       "    </tr>\n",
       "    <tr>\n",
       "      <th>Product_ID</th>\n",
       "      <th></th>\n",
       "      <th></th>\n",
       "      <th></th>\n",
       "      <th></th>\n",
       "      <th></th>\n",
       "      <th></th>\n",
       "      <th></th>\n",
       "      <th></th>\n",
       "      <th></th>\n",
       "      <th></th>\n",
       "    </tr>\n",
       "  </thead>\n",
       "  <tbody>\n",
       "    <tr>\n",
       "      <th>TIGROD,ER90S-B9</th>\n",
       "      <td>TIG Rods (GTAW)</td>\n",
       "      <td>Low Alloy Wires</td>\n",
       "      <td>Power</td>\n",
       "      <td></td>\n",
       "      <td>Petrochemical</td>\n",
       "      <td></td>\n",
       "      <td></td>\n",
       "      <td>Pipeline</td>\n",
       "      <td>94.0</td>\n",
       "      <td>Stress Relieved</td>\n",
       "    </tr>\n",
       "    <tr>\n",
       "      <th>TIGROD,ER90S-B3</th>\n",
       "      <td>TIG Rods (GTAW)</td>\n",
       "      <td>Low Alloy Wires</td>\n",
       "      <td>Power</td>\n",
       "      <td></td>\n",
       "      <td>Petrochemical</td>\n",
       "      <td></td>\n",
       "      <td></td>\n",
       "      <td></td>\n",
       "      <td>94.0</td>\n",
       "      <td>Stress Relieved</td>\n",
       "    </tr>\n",
       "    <tr>\n",
       "      <th>TIGROD,ER80S-B8</th>\n",
       "      <td>TIG Rods (GTAW)</td>\n",
       "      <td>Low Alloy Wires</td>\n",
       "      <td>Power</td>\n",
       "      <td></td>\n",
       "      <td></td>\n",
       "      <td></td>\n",
       "      <td></td>\n",
       "      <td></td>\n",
       "      <td>97.0</td>\n",
       "      <td>Stress Relieved</td>\n",
       "    </tr>\n",
       "  </tbody>\n",
       "</table>\n",
       "</div>"
      ],
      "text/plain": [
       "                      Catagories     Product_Type  Power Automotive  \\\n",
       "Product_ID                                                            \n",
       "TIGROD,ER90S-B9  TIG Rods (GTAW)  Low Alloy Wires  Power              \n",
       "TIGROD,ER90S-B3  TIG Rods (GTAW)  Low Alloy Wires  Power              \n",
       "TIGROD,ER80S-B8  TIG Rods (GTAW)  Low Alloy Wires  Power              \n",
       "\n",
       "                 Petrochemical Construction Ship  Pipeline  Tensile  \\\n",
       "Product_ID                                                            \n",
       "TIGROD,ER90S-B9  Petrochemical                    Pipeline     94.0   \n",
       "TIGROD,ER90S-B3  Petrochemical                                 94.0   \n",
       "TIGROD,ER80S-B8                                                97.0   \n",
       "\n",
       "                Values_Condition  \n",
       "Product_ID                        \n",
       "TIGROD,ER90S-B9  Stress Relieved  \n",
       "TIGROD,ER90S-B3  Stress Relieved  \n",
       "TIGROD,ER80S-B8  Stress Relieved  "
      ]
     },
     "execution_count": 208,
     "metadata": {},
     "output_type": "execute_result"
    }
   ],
   "source": [
    "df_new=df[['Catagories','Product_Type','Power','Automotive','Petrochemical','Construction','Ship','Pipeline','Tensile','Values_Condition']]\n",
    "df_new.head(3)"
   ]
  },
  {
   "cell_type": "code",
   "execution_count": 209,
   "metadata": {},
   "outputs": [
    {
     "data": {
      "text/html": [
       "<div>\n",
       "<style scoped>\n",
       "    .dataframe tbody tr th:only-of-type {\n",
       "        vertical-align: middle;\n",
       "    }\n",
       "\n",
       "    .dataframe tbody tr th {\n",
       "        vertical-align: top;\n",
       "    }\n",
       "\n",
       "    .dataframe thead th {\n",
       "        text-align: right;\n",
       "    }\n",
       "</style>\n",
       "<table border=\"1\" class=\"dataframe\">\n",
       "  <thead>\n",
       "    <tr style=\"text-align: right;\">\n",
       "      <th></th>\n",
       "      <th>Catagories</th>\n",
       "      <th>Product_Type</th>\n",
       "      <th>Power</th>\n",
       "      <th>Automotive</th>\n",
       "      <th>Petrochemical</th>\n",
       "      <th>Construction</th>\n",
       "      <th>Ship</th>\n",
       "      <th>Pipeline</th>\n",
       "      <th>Tensile</th>\n",
       "      <th>Values_Condition</th>\n",
       "    </tr>\n",
       "    <tr>\n",
       "      <th>Product_ID</th>\n",
       "      <th></th>\n",
       "      <th></th>\n",
       "      <th></th>\n",
       "      <th></th>\n",
       "      <th></th>\n",
       "      <th></th>\n",
       "      <th></th>\n",
       "      <th></th>\n",
       "      <th></th>\n",
       "      <th></th>\n",
       "    </tr>\n",
       "  </thead>\n",
       "  <tbody>\n",
       "    <tr>\n",
       "      <th>TIGROD,ER90S-B9</th>\n",
       "      <td>TIG Rods (GTAW)</td>\n",
       "      <td>Low Alloy Wires</td>\n",
       "      <td>Power</td>\n",
       "      <td></td>\n",
       "      <td>Petrochemical</td>\n",
       "      <td></td>\n",
       "      <td></td>\n",
       "      <td>Pipeline</td>\n",
       "      <td>94.0</td>\n",
       "      <td>Stress Relieved</td>\n",
       "    </tr>\n",
       "    <tr>\n",
       "      <th>TIGROD,ER90S-B3</th>\n",
       "      <td>TIG Rods (GTAW)</td>\n",
       "      <td>Low Alloy Wires</td>\n",
       "      <td>Power</td>\n",
       "      <td></td>\n",
       "      <td>Petrochemical</td>\n",
       "      <td></td>\n",
       "      <td></td>\n",
       "      <td></td>\n",
       "      <td>94.0</td>\n",
       "      <td>Stress Relieved</td>\n",
       "    </tr>\n",
       "    <tr>\n",
       "      <th>TIGROD,ER80S-B8</th>\n",
       "      <td>TIG Rods (GTAW)</td>\n",
       "      <td>Low Alloy Wires</td>\n",
       "      <td>Power</td>\n",
       "      <td></td>\n",
       "      <td></td>\n",
       "      <td></td>\n",
       "      <td></td>\n",
       "      <td></td>\n",
       "      <td>97.0</td>\n",
       "      <td>Stress Relieved</td>\n",
       "    </tr>\n",
       "  </tbody>\n",
       "</table>\n",
       "</div>"
      ],
      "text/plain": [
       "                      Catagories     Product_Type  Power Automotive  \\\n",
       "Product_ID                                                            \n",
       "TIGROD,ER90S-B9  TIG Rods (GTAW)  Low Alloy Wires  Power              \n",
       "TIGROD,ER90S-B3  TIG Rods (GTAW)  Low Alloy Wires  Power              \n",
       "TIGROD,ER80S-B8  TIG Rods (GTAW)  Low Alloy Wires  Power              \n",
       "\n",
       "                 Petrochemical Construction Ship  Pipeline  Tensile  \\\n",
       "Product_ID                                                            \n",
       "TIGROD,ER90S-B9  Petrochemical                    Pipeline     94.0   \n",
       "TIGROD,ER90S-B3  Petrochemical                                 94.0   \n",
       "TIGROD,ER80S-B8                                                97.0   \n",
       "\n",
       "                Values_Condition  \n",
       "Product_ID                        \n",
       "TIGROD,ER90S-B9  Stress Relieved  \n",
       "TIGROD,ER90S-B3  Stress Relieved  \n",
       "TIGROD,ER80S-B8  Stress Relieved  "
      ]
     },
     "execution_count": 209,
     "metadata": {},
     "output_type": "execute_result"
    }
   ],
   "source": [
    "df_new=df_new.fillna(0)\n",
    "df_new.head(3)"
   ]
  },
  {
   "cell_type": "code",
   "execution_count": 211,
   "metadata": {
    "scrolled": false
   },
   "outputs": [
    {
     "data": {
      "text/html": [
       "<div>\n",
       "<style scoped>\n",
       "    .dataframe tbody tr th:only-of-type {\n",
       "        vertical-align: middle;\n",
       "    }\n",
       "\n",
       "    .dataframe tbody tr th {\n",
       "        vertical-align: top;\n",
       "    }\n",
       "\n",
       "    .dataframe thead th {\n",
       "        text-align: right;\n",
       "    }\n",
       "</style>\n",
       "<table border=\"1\" class=\"dataframe\">\n",
       "  <thead>\n",
       "    <tr style=\"text-align: right;\">\n",
       "      <th></th>\n",
       "      <th>Catagories</th>\n",
       "      <th>Product_Type</th>\n",
       "      <th>Power</th>\n",
       "      <th>Automotive</th>\n",
       "      <th>Petrochemical</th>\n",
       "      <th>Construction</th>\n",
       "      <th>Ship</th>\n",
       "      <th>Pipeline</th>\n",
       "      <th>Tensile</th>\n",
       "      <th>Values_Condition</th>\n",
       "    </tr>\n",
       "  </thead>\n",
       "  <tbody>\n",
       "    <tr>\n",
       "      <th>count</th>\n",
       "      <td>630</td>\n",
       "      <td>630</td>\n",
       "      <td>630</td>\n",
       "      <td>630</td>\n",
       "      <td>630</td>\n",
       "      <td>630</td>\n",
       "      <td>630</td>\n",
       "      <td>630</td>\n",
       "      <td>630.000000</td>\n",
       "      <td>630</td>\n",
       "    </tr>\n",
       "    <tr>\n",
       "      <th>unique</th>\n",
       "      <td>10</td>\n",
       "      <td>28</td>\n",
       "      <td>2</td>\n",
       "      <td>2</td>\n",
       "      <td>2</td>\n",
       "      <td>3</td>\n",
       "      <td>3</td>\n",
       "      <td>2</td>\n",
       "      <td>NaN</td>\n",
       "      <td>2</td>\n",
       "    </tr>\n",
       "    <tr>\n",
       "      <th>top</th>\n",
       "      <td>Submerged Arc Wires &amp; Fluxes (SAW)</td>\n",
       "      <td>Hardfacing Alloys</td>\n",
       "      <td></td>\n",
       "      <td></td>\n",
       "      <td></td>\n",
       "      <td></td>\n",
       "      <td></td>\n",
       "      <td></td>\n",
       "      <td>NaN</td>\n",
       "      <td></td>\n",
       "    </tr>\n",
       "    <tr>\n",
       "      <th>freq</th>\n",
       "      <td>124</td>\n",
       "      <td>157</td>\n",
       "      <td>594</td>\n",
       "      <td>602</td>\n",
       "      <td>603</td>\n",
       "      <td>577</td>\n",
       "      <td>561</td>\n",
       "      <td>593</td>\n",
       "      <td>NaN</td>\n",
       "      <td>582</td>\n",
       "    </tr>\n",
       "    <tr>\n",
       "      <th>mean</th>\n",
       "      <td>NaN</td>\n",
       "      <td>NaN</td>\n",
       "      <td>NaN</td>\n",
       "      <td>NaN</td>\n",
       "      <td>NaN</td>\n",
       "      <td>NaN</td>\n",
       "      <td>NaN</td>\n",
       "      <td>NaN</td>\n",
       "      <td>41.496825</td>\n",
       "      <td>NaN</td>\n",
       "    </tr>\n",
       "    <tr>\n",
       "      <th>std</th>\n",
       "      <td>NaN</td>\n",
       "      <td>NaN</td>\n",
       "      <td>NaN</td>\n",
       "      <td>NaN</td>\n",
       "      <td>NaN</td>\n",
       "      <td>NaN</td>\n",
       "      <td>NaN</td>\n",
       "      <td>NaN</td>\n",
       "      <td>47.243870</td>\n",
       "      <td>NaN</td>\n",
       "    </tr>\n",
       "    <tr>\n",
       "      <th>min</th>\n",
       "      <td>NaN</td>\n",
       "      <td>NaN</td>\n",
       "      <td>NaN</td>\n",
       "      <td>NaN</td>\n",
       "      <td>NaN</td>\n",
       "      <td>NaN</td>\n",
       "      <td>NaN</td>\n",
       "      <td>NaN</td>\n",
       "      <td>0.000000</td>\n",
       "      <td>NaN</td>\n",
       "    </tr>\n",
       "    <tr>\n",
       "      <th>25%</th>\n",
       "      <td>NaN</td>\n",
       "      <td>NaN</td>\n",
       "      <td>NaN</td>\n",
       "      <td>NaN</td>\n",
       "      <td>NaN</td>\n",
       "      <td>NaN</td>\n",
       "      <td>NaN</td>\n",
       "      <td>NaN</td>\n",
       "      <td>0.000000</td>\n",
       "      <td>NaN</td>\n",
       "    </tr>\n",
       "    <tr>\n",
       "      <th>50%</th>\n",
       "      <td>NaN</td>\n",
       "      <td>NaN</td>\n",
       "      <td>NaN</td>\n",
       "      <td>NaN</td>\n",
       "      <td>NaN</td>\n",
       "      <td>NaN</td>\n",
       "      <td>NaN</td>\n",
       "      <td>NaN</td>\n",
       "      <td>5.000000</td>\n",
       "      <td>NaN</td>\n",
       "    </tr>\n",
       "    <tr>\n",
       "      <th>75%</th>\n",
       "      <td>NaN</td>\n",
       "      <td>NaN</td>\n",
       "      <td>NaN</td>\n",
       "      <td>NaN</td>\n",
       "      <td>NaN</td>\n",
       "      <td>NaN</td>\n",
       "      <td>NaN</td>\n",
       "      <td>NaN</td>\n",
       "      <td>87.000000</td>\n",
       "      <td>NaN</td>\n",
       "    </tr>\n",
       "    <tr>\n",
       "      <th>max</th>\n",
       "      <td>NaN</td>\n",
       "      <td>NaN</td>\n",
       "      <td>NaN</td>\n",
       "      <td>NaN</td>\n",
       "      <td>NaN</td>\n",
       "      <td>NaN</td>\n",
       "      <td>NaN</td>\n",
       "      <td>NaN</td>\n",
       "      <td>200.000000</td>\n",
       "      <td>NaN</td>\n",
       "    </tr>\n",
       "  </tbody>\n",
       "</table>\n",
       "</div>"
      ],
      "text/plain": [
       "                                Catagories       Product_Type Power  \\\n",
       "count                                  630                630   630   \n",
       "unique                                  10                 28     2   \n",
       "top     Submerged Arc Wires & Fluxes (SAW)  Hardfacing Alloys         \n",
       "freq                                   124                157   594   \n",
       "mean                                   NaN                NaN   NaN   \n",
       "std                                    NaN                NaN   NaN   \n",
       "min                                    NaN                NaN   NaN   \n",
       "25%                                    NaN                NaN   NaN   \n",
       "50%                                    NaN                NaN   NaN   \n",
       "75%                                    NaN                NaN   NaN   \n",
       "max                                    NaN                NaN   NaN   \n",
       "\n",
       "       Automotive Petrochemical Construction Ship Pipeline     Tensile  \\\n",
       "count         630           630          630  630      630  630.000000   \n",
       "unique          2             2            3    3        2         NaN   \n",
       "top                                                                NaN   \n",
       "freq          602           603          577  561      593         NaN   \n",
       "mean          NaN           NaN          NaN  NaN      NaN   41.496825   \n",
       "std           NaN           NaN          NaN  NaN      NaN   47.243870   \n",
       "min           NaN           NaN          NaN  NaN      NaN    0.000000   \n",
       "25%           NaN           NaN          NaN  NaN      NaN    0.000000   \n",
       "50%           NaN           NaN          NaN  NaN      NaN    5.000000   \n",
       "75%           NaN           NaN          NaN  NaN      NaN   87.000000   \n",
       "max           NaN           NaN          NaN  NaN      NaN  200.000000   \n",
       "\n",
       "       Values_Condition  \n",
       "count               630  \n",
       "unique                2  \n",
       "top                      \n",
       "freq                582  \n",
       "mean                NaN  \n",
       "std                 NaN  \n",
       "min                 NaN  \n",
       "25%                 NaN  \n",
       "50%                 NaN  \n",
       "75%                 NaN  \n",
       "max                 NaN  "
      ]
     },
     "execution_count": 211,
     "metadata": {},
     "output_type": "execute_result"
    }
   ],
   "source": [
    "df_new.describe(include='all')"
   ]
  },
  {
   "cell_type": "code",
   "execution_count": 212,
   "metadata": {
    "scrolled": true
   },
   "outputs": [
    {
     "data": {
      "text/plain": [
       "Text(0.5,1,'Histogram of Tensile Strength')"
      ]
     },
     "execution_count": 212,
     "metadata": {},
     "output_type": "execute_result"
    },
    {
     "data": {
      "image/png": "[encoded data removed]",
      "text/plain": [
       "<Figure size 432x288 with 1 Axes>"
      ]
     },
     "metadata": {},
     "output_type": "display_data"
    }
   ],
   "source": [
    "plt.hist(df_new['Tensile'], bins=20, range=(40,140),color=\"#5ee3ff\")\n",
    "plt.ylabel('Count')\n",
    "plt.xlabel('Tensile Strength, ksi')\n",
    "plt.title('Histogram of Tensile Strength', fontsize=15)"
   ]
  },
  {
   "cell_type": "code",
   "execution_count": 213,
   "metadata": {},
   "outputs": [],
   "source": [
    "temp1=df_new[df_new[\"Catagories\"]==\"TIG Rods (GTAW)\"].copy()\n",
    "#temp1"
   ]
  },
  {
   "cell_type": "code",
   "execution_count": 214,
   "metadata": {},
   "outputs": [
    {
     "data": {
      "text/plain": [
       "Text(0.5,1,'GTAW -- Low Alloy Steel -- >90 ksi')"
      ]
     },
     "execution_count": 214,
     "metadata": {},
     "output_type": "execute_result"
    },
    {
     "data": {
      "image/png": "[encoded data removed]",
      "text/plain": [
       "<Figure size 432x288 with 1 Axes>"
      ]
     },
     "metadata": {},
     "output_type": "display_data"
    }
   ],
   "source": [
    "dg =temp1[temp1[\"Product_Type\"]=='Low Alloy Wires']\n",
    "dg = dg.groupby('Product_ID').agg({'Tensile':'mean'})\n",
    "dg[dg.Tensile>90].sort_values(ascending=False, by='Tensile').plot(kind='barh',y='Tensile', color='b')\n",
    "plt.xlabel('Tensile, ksi')\n",
    "plt.ylabel('Product_ID')\n",
    "plt.title('GTAW -- Low Alloy Steel -- >90 ksi', fontsize=15)"
   ]
  },
  {
   "cell_type": "code",
   "execution_count": 215,
   "metadata": {},
   "outputs": [
    {
     "data": {
      "text/plain": [
       "Text(0.5,1,'Number of Product_Type')"
      ]
     },
     "execution_count": 215,
     "metadata": {},
     "output_type": "execute_result"
    },
    {
     "data": {
      "image/png": "[encoded data removed]",
      "text/plain": [
       "<Figure size 432x288 with 1 Axes>"
      ]
     },
     "metadata": {},
     "output_type": "display_data"
    }
   ],
   "source": [
    "\n",
    "df_new1=df_new.groupby('Product_Type')['Ship'].count().sort_values(ascending=False).plot.bar(color='b')\n",
    "plt.xlabel('Product_Type')\n",
    "plt.ylabel('Count')\n",
    "plt.title('Number of Product_Type', fontsize=15)"
   ]
  },
  {
   "cell_type": "code",
   "execution_count": 224,
   "metadata": {},
   "outputs": [
    {
     "data": {
      "text/plain": [
       "Text(0.5,1,'Number of Product_Type in each Process Type')"
      ]
     },
     "execution_count": 224,
     "metadata": {},
     "output_type": "execute_result"
    },
    {
     "data": {
      "image/png": "[encoded data removed]",
      "text/plain": [
       "<Figure size 432x288 with 1 Axes>"
      ]
     },
     "metadata": {},
     "output_type": "display_data"
    }
   ],
   "source": [
    "df_new.groupby(['Catagories'])['Product_Type'].count().sort_values(ascending=False).plot.bar(color='r')\n",
    "plt.xlabel('Catagories or Process Type')\n",
    "plt.ylabel('Count')\n",
    "plt.title('Number of Product_Type in each Process Type', fontsize=15)"
   ]
  },
  {
   "cell_type": "code",
   "execution_count": 229,
   "metadata": {
    "scrolled": true
   },
   "outputs": [
    {
     "data": {
      "text/plain": [
       "Text(0,0.5,'Tensile_Strength, ksi')"
      ]
     },
     "execution_count": 229,
     "metadata": {},
     "output_type": "execute_result"
    },
    {
     "data": {
      "image/png": "[encoded data removed]",
      "text/plain": [
       "<Figure size 432x288 with 1 Axes>"
      ]
     },
     "metadata": {},
     "output_type": "display_data"
    }
   ],
   "source": [
    "temp=df_new[['Product_Type','Tensile']].groupby('Product_Type').median()\n",
    "temp[temp['Tensile']>20].plot.bar(color=\"g\")\n",
    "\n",
    "plt.xlabel('Product_Type')\n",
    "plt.ylabel('Tensile_Strength, ksi')\n"
   ]
  },
  {
   "cell_type": "code",
   "execution_count": 228,
   "metadata": {},
   "outputs": [],
   "source": [
    "#df_score = df_new[['Catagories', 'Tensile']]\n",
    "#df_score.boxplot(by='Catagories', column='Tensile')\n",
    "\n",
    "#plt.xlabel('Electrode Catagories')\n",
    "#plt.ylabel('Tensile_Strength, ksi')\n",
    "#plt.title('Boxplot grouped by Catagories', fontsize=15)\n",
    "#plt.xticks(rotation=90)"
   ]
  }
 ],
 "metadata": {
  "kernelspec": {
   "display_name": "Python 3",
   "language": "python",
   "name": "python3"
  },
  "language_info": {
   "codemirror_mode": {
    "name": "ipython",
    "version": 3
   },
   "file_extension": ".py",
   "mimetype": "text/x-python",
   "name": "python",
   "nbconvert_exporter": "python",
   "pygments_lexer": "ipython3",
   "version": "3.6.5"
  }
 },
 "nbformat": 4,
 "nbformat_minor": 2
}
